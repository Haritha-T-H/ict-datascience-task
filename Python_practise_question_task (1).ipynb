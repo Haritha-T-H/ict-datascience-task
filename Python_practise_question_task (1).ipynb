{
  "nbformat": 4,
  "nbformat_minor": 0,
  "metadata": {
    "colab": {
      "provenance": []
    },
    "kernelspec": {
      "name": "python3",
      "display_name": "Python 3"
    },
    "language_info": {
      "name": "python"
    }
  },
  "cells": [
    {
      "cell_type": "markdown",
      "source": [
        "## **PYTHON PRACTISE QUESTIONS**"
      ],
      "metadata": {
        "id": "XPRgU_8l_n37"
      }
    },
    {
      "cell_type": "markdown",
      "source": [
        "1. Write a Python program which accepts the radius of a circle from the user\n",
        "and compute the area.\n",
        "Sample input: Enter the radius: 3\n",
        "Sample output: Area of Circle is 28.59999999999"
      ],
      "metadata": {
        "id": "B3tVTz-J_9Hw"
      }
    },
    {
      "cell_type": "code",
      "source": [
        "r=int(input(\"enter the radius\"))\n",
        "area=3.14*r*r\n",
        "print(\"the area is\",area)"
      ],
      "metadata": {
        "colab": {
          "base_uri": "https://localhost:8080/"
        },
        "id": "IW0jY_-cACFJ",
        "outputId": "0e7d9f6e-1576-4a99-ce1a-ce2dbe7f458e"
      },
      "execution_count": 1,
      "outputs": [
        {
          "output_type": "stream",
          "name": "stdout",
          "text": [
            "enter the radius15\n",
            "the area is 706.5\n"
          ]
        }
      ]
    },
    {
      "cell_type": "markdown",
      "source": [
        "2. Write a Python Program to accept the details of a student like name, roll\n",
        "number and mark and display it.\n",
        "Sample input: Enter the name: Anisha\n",
        "Enter the roll number: 21\n",
        "Enter the mark: 78\n",
        "Sample output: Name: Anisha\n",
        "Roll No: 21\n",
        "Mark: 78\n"
      ],
      "metadata": {
        "id": "-r74OCUJAyhf"
      }
    },
    {
      "cell_type": "code",
      "source": [
        "name=(input(\"enter the name\"))\n",
        "rollno=int(input(\"enter the rollno\"))\n",
        "mark=int(input(\"enter the mark\"))\n",
        "print(name)\n",
        "print(rollno)\n",
        "print(mark)\n",
        "\n",
        "\n",
        "\n"
      ],
      "metadata": {
        "colab": {
          "base_uri": "https://localhost:8080/"
        },
        "id": "rmlFDYQZAkCB",
        "outputId": "6f47c067-8fec-4233-8aea-b40a3783f7c4"
      },
      "execution_count": null,
      "outputs": [
        {
          "output_type": "stream",
          "name": "stdout",
          "text": [
            "enter the nameshyam\n",
            "enter the rollno33\n",
            "enter the mark100\n",
            "shyam\n",
            "33\n",
            "100\n"
          ]
        }
      ]
    },
    {
      "cell_type": "markdown",
      "source": [
        "3. Write a Python program to get the largest number from a list.\n",
        "Sample input: 12, 3, 47, 10\n",
        "Sample output: 47 is the largest number."
      ],
      "metadata": {
        "id": "jhismJJcCmwB"
      }
    },
    {
      "cell_type": "code",
      "source": [
        "list1=[]\n",
        "n=int(input(\"enter the limit:\"))\n",
        "for i in range(n):\n",
        "  ele=int(input(\"enter the elements:\"))\n",
        "  list1.append(ele)\n",
        "print(list1)\n",
        "largest=max(list1)\n",
        "print(\"the largest element in the list is:\",largest)"
      ],
      "metadata": {
        "colab": {
          "base_uri": "https://localhost:8080/"
        },
        "id": "8wWZ7_yiCXQe",
        "outputId": "5e07c42e-bd2f-42dc-c13d-ac065a270480"
      },
      "execution_count": null,
      "outputs": [
        {
          "output_type": "stream",
          "name": "stdout",
          "text": [
            "enter the limit:5\n",
            "enter the elements:3\n",
            "enter the elements:6\n",
            "enter the elements:2\n",
            "enter the elements:7\n",
            "enter the elements:9\n",
            "[3, 6, 2, 7, 9]\n",
            "the largest element in the list is: 9\n"
          ]
        }
      ]
    },
    {
      "cell_type": "markdown",
      "source": [
        "4. Given a range of first 10 numbers, write a Python program to iterate from\n",
        "start number to the end number and print the sum of the current number\n",
        "and previous number.\n",
        "Sample input: 1….10\n",
        "Sample output: Current Number 1 Previous Number 0 Sum: 1 Current\n",
        "Number 2 Previous Number 1 Sum: 3 Current Number 3 Previous\n",
        "Number 2 Sum: 5… Current Number 10 Previous Number 9 Sum: 19"
      ],
      "metadata": {
        "id": "xvSM93HSGAzL"
      }
    },
    {
      "cell_type": "code",
      "source": [
        "for i in range(1,11):\n",
        "  sum=i+(i-1)\n",
        "  print(f\"current value:{i} previous value:{i-1}: sum={sum}\")"
      ],
      "metadata": {
        "colab": {
          "base_uri": "https://localhost:8080/"
        },
        "id": "QIwG5ZeEGEAb",
        "outputId": "a0b76805-e19c-4db3-917b-db5d5b945dc8"
      },
      "execution_count": null,
      "outputs": [
        {
          "output_type": "stream",
          "name": "stdout",
          "text": [
            "current value:1 previous value:0: sum=1\n",
            "current value:2 previous value:1: sum=3\n",
            "current value:3 previous value:2: sum=5\n",
            "current value:4 previous value:3: sum=7\n",
            "current value:5 previous value:4: sum=9\n",
            "current value:6 previous value:5: sum=11\n",
            "current value:7 previous value:6: sum=13\n",
            "current value:8 previous value:7: sum=15\n",
            "current value:9 previous value:8: sum=17\n",
            "current value:10 previous value:9: sum=19\n"
          ]
        }
      ]
    },
    {
      "cell_type": "markdown",
      "source": [
        "5. Write a Python program to print only those numbers which are divisible\n",
        "of 5.\n",
        "Sample input: 10, 20,33,46,55 Sample output: 10, 20, 55"
      ],
      "metadata": {
        "id": "8MkUllQUMHO9"
      }
    },
    {
      "cell_type": "code",
      "source": [
        "newlist=[]\n",
        "list=[]\n",
        "n=int(input(\"enter the no of elements:\"))\n",
        "for i in range(n):\n",
        "  values=int(input(\"enter the values:\"))\n",
        "  list.append(values)\n",
        "for j in list:\n",
        "  if j%5==0:\n",
        "    newlist.append(j)\n",
        "print(list)\n",
        "print(newlist)"
      ],
      "metadata": {
        "colab": {
          "base_uri": "https://localhost:8080/"
        },
        "id": "hYRAplVpMJuL",
        "outputId": "b99127d2-18fb-4c75-a380-63571ff40910"
      },
      "execution_count": null,
      "outputs": [
        {
          "output_type": "stream",
          "name": "stdout",
          "text": [
            "enter the no of elements:4\n",
            "enter the values:5\n",
            "enter the values:10\n",
            "enter the values:6\n",
            "enter the values:25\n",
            "[5, 10, 6, 25]\n",
            "[5, 10, 25]\n"
          ]
        }
      ]
    },
    {
      "cell_type": "markdown",
      "source": [
        "6. Write a Python program to check whether a number is prime or not.\n",
        "Sample input: Enter the number: 3\n",
        "Sample output: 3 is a prime number"
      ],
      "metadata": {
        "id": "DmP4SVBzVfou"
      }
    },
    {
      "cell_type": "code",
      "source": [
        "count=0\n",
        "n=int(input(\"enter the number\"))\n",
        "if n>1:\n",
        "  for i in range(1,n+1):\n",
        "    if n%i==0:\n",
        "       count=count+1\n",
        "  if(count==2):\n",
        "    print(\"prime\")\n",
        "  else:\n",
        "    print(\"not prime\")\n",
        "else:\n",
        "  print(\"not prime\")\n",
        "\n",
        "\n"
      ],
      "metadata": {
        "colab": {
          "base_uri": "https://localhost:8080/"
        },
        "id": "KrukbBmSSRIU",
        "outputId": "f01c5320-b655-4391-90fd-3fa4e55ca17b"
      },
      "execution_count": 2,
      "outputs": [
        {
          "output_type": "stream",
          "name": "stdout",
          "text": [
            "enter the number7\n",
            "prime\n"
          ]
        }
      ]
    },
    {
      "cell_type": "markdown",
      "source": [
        "7. Write a Python program to reverse a list using for loop.\n",
        "Sample input: 10,40,30,70\n",
        "Sample output: 70,30,40,10"
      ],
      "metadata": {
        "id": "ruA3abm6iQxc"
      }
    },
    {
      "cell_type": "code",
      "source": [
        "newlist = []\n",
        "list = []\n",
        "n = int(input(\"Enter the number of elements: \"))\n",
        "\n",
        "for i in range(n):\n",
        "    values = int(input(\"Enter the values: \"))\n",
        "    list.append(values)\n",
        "\n",
        "for i in range(n - 1,-1,-1):\n",
        "    newlist.append(list[i])\n",
        "print(list)\n",
        "print(\"the reversed list is\",newlist)\n",
        "\n",
        "\n"
      ],
      "metadata": {
        "colab": {
          "base_uri": "https://localhost:8080/"
        },
        "id": "mdYWfUSBiRyg",
        "outputId": "49ba55be-5096-416d-dfbb-ef13e0e195c3"
      },
      "execution_count": 3,
      "outputs": [
        {
          "output_type": "stream",
          "name": "stdout",
          "text": [
            "Enter the number of elements: 6\n",
            "Enter the values: 56\n",
            "Enter the values: 34\n",
            "Enter the values: 67\n",
            "Enter the values: 23\n",
            "Enter the values: 89\n",
            "Enter the values: 45\n",
            "[56, 34, 67, 23, 89, 45]\n",
            "the reversed list is [45, 89, 23, 67, 34, 56]\n"
          ]
        }
      ]
    },
    {
      "cell_type": "markdown",
      "source": [
        "![py qn.png](data:image/png;base64,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)"
      ],
      "metadata": {
        "id": "qQagFklUoWVB"
      }
    },
    {
      "cell_type": "code",
      "source": [
        "for i in range(4):\n",
        "  for j in range(i+1):\n",
        "    print(\"*\",end=\" \")\n",
        "  print()\n"
      ],
      "metadata": {
        "colab": {
          "base_uri": "https://localhost:8080/"
        },
        "id": "-dRCDXU6oYRj",
        "outputId": "eaf245f6-c133-4d58-fdab-ad02b708aaee"
      },
      "execution_count": 4,
      "outputs": [
        {
          "output_type": "stream",
          "name": "stdout",
          "text": [
            "* \n",
            "* * \n",
            "* * * \n",
            "* * * * \n"
          ]
        }
      ]
    },
    {
      "cell_type": "markdown",
      "source": [
        "9. Write a Python program to find the maximum of three numbers\n",
        "Sample input: 34,12,7\n",
        "Sample output: 34"
      ],
      "metadata": {
        "id": "rl7GPbx1p3Wj"
      }
    },
    {
      "cell_type": "code",
      "source": [
        "a=int(input(\"enter the first number\"))\n",
        "b=int(input(\"enter the second number\"))\n",
        "c=int(input(\"enter the third number\"))\n",
        "if (a>b)&(a>c):\n",
        "  print(\"The largest number is\",a)\n",
        "elif (b>a) & (b>c):\n",
        "  print(\"The largest number is\",b)\n",
        "else:\n",
        "  print(\"The largest number is\",c)\n",
        "\n"
      ],
      "metadata": {
        "colab": {
          "base_uri": "https://localhost:8080/"
        },
        "id": "NmpDZcC7p4gd",
        "outputId": "e341c17c-585d-4ddc-fd3f-11603501d09f"
      },
      "execution_count": 5,
      "outputs": [
        {
          "output_type": "stream",
          "name": "stdout",
          "text": [
            "enter the first number67\n",
            "enter the second number45\n",
            "enter the third number23\n",
            "The largest number is 67\n"
          ]
        }
      ]
    },
    {
      "cell_type": "markdown",
      "source": [
        "![pyqn2.png](data:image/png;base64,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)"
      ],
      "metadata": {
        "id": "-XMahjObsiA_"
      }
    },
    {
      "cell_type": "code",
      "source": [
        "for i in range(5):\n",
        "  for j in range(i+1):\n",
        "    print(\"*\",end=\"\")\n",
        "  print()\n",
        "for i in range(4):\n",
        "  for j in range(4-i):\n",
        "     print(\"*\",end=\"\")\n",
        "  print()\n",
        "\n"
      ],
      "metadata": {
        "colab": {
          "base_uri": "https://localhost:8080/"
        },
        "id": "yv_ctSUMrTyb",
        "outputId": "e393e404-bfd9-4440-a9d7-2ff9ce40ef60"
      },
      "execution_count": 6,
      "outputs": [
        {
          "output_type": "stream",
          "name": "stdout",
          "text": [
            "*\n",
            "**\n",
            "***\n",
            "****\n",
            "*****\n",
            "****\n",
            "***\n",
            "**\n",
            "*\n"
          ]
        }
      ]
    },
    {
      "cell_type": "markdown",
      "source": [
        "# **PYTHON PRACTISE QUESTIONS 2**"
      ],
      "metadata": {
        "id": "vxNiuu91s9Hv"
      }
    },
    {
      "cell_type": "markdown",
      "source": [
        "1. Write a Python program to accept a string value from the user and display\n",
        "the count of each character in that string. Sample input: Enter a string\n",
        "value: assembly Sample output: a=1, s=2, e=1, m=1, b=1, l=1, y=1 1"
      ],
      "metadata": {
        "id": "heItzjzjuB1N"
      }
    },
    {
      "cell_type": "code",
      "source": [
        "\n",
        "string = input(\"Enter a string value: \")\n",
        "count = {}\n",
        "for i in string:\n",
        "  if i in count:\n",
        "    count[i]+= 1\n",
        "  else:\n",
        "    count[i]=1\n",
        "output = \", \".join(f\"{i}={count}\" for i,count in count.items())\n",
        "print(output)"
      ],
      "metadata": {
        "colab": {
          "base_uri": "https://localhost:8080/"
        },
        "id": "952i3N52tjLU",
        "outputId": "7ebf744c-24d0-471a-a721-c5ddadfb53ac"
      },
      "execution_count": 74,
      "outputs": [
        {
          "output_type": "stream",
          "name": "stdout",
          "text": [
            "Enter a string value: malayalam\n",
            "m=2, a=4, l=2, y=1\n"
          ]
        }
      ]
    },
    {
      "cell_type": "markdown",
      "source": [
        "2. . Write a Python function to find the maximum of three numbers Sample\n",
        "input: 34,12,7 Sample output: 34"
      ],
      "metadata": {
        "id": "qGwVL4XkxFMy"
      }
    },
    {
      "cell_type": "code",
      "source": [
        "def largest(a, b, c):\n",
        "  maximum = max(a, b, c)\n",
        "  return maximum\n",
        "num1=int(input('enter the first number'))\n",
        "num2=int(input('enter the second number'))\n",
        "num3=int(input('enter the third number'))\n",
        "result = largest(num1, num2, num3)\n",
        "print(f\"The maximum of {num1}, {num2}, and {num3} is {result}\")"
      ],
      "metadata": {
        "colab": {
          "base_uri": "https://localhost:8080/"
        },
        "id": "KOAWKhuHvy9E",
        "outputId": "6d05d9c3-6a03-4a1d-ecfc-1f1778461a8c"
      },
      "execution_count": 18,
      "outputs": [
        {
          "output_type": "stream",
          "name": "stdout",
          "text": [
            "enter the first number56\n",
            "enter the second number78\n",
            "enter the third number34\n",
            "The maximum of 56, 78, and 34 is 78\n"
          ]
        }
      ]
    },
    {
      "cell_type": "markdown",
      "source": [
        "3. Write a Python function called exponent(base,exp) that returns an\n",
        "integer value of base raises to the power of exp. Sample input: Enter the\n",
        "base: 2 Enter the exponent: 3 Sample output: 8"
      ],
      "metadata": {
        "id": "3LwkzSYNy4wt"
      }
    },
    {
      "cell_type": "code",
      "source": [
        "def exponent(base,exp):\n",
        "  operation = base ** exp\n",
        "  return operation\n",
        "base = int(input(\"Enter the base: \"))\n",
        "exp = int(input(\"Enter the exponent: \"))\n",
        "result = exponent(base,exp)\n",
        "print(f\"{base} raised to the power of {exp} is {result}\")\n",
        "\n"
      ],
      "metadata": {
        "colab": {
          "base_uri": "https://localhost:8080/"
        },
        "id": "IFzQIAbIyN3j",
        "outputId": "32df8ea6-12c0-40da-a93b-d37d41c4b387"
      },
      "execution_count": 25,
      "outputs": [
        {
          "output_type": "stream",
          "name": "stdout",
          "text": [
            "Enter the base: 7\n",
            "Enter the exponent: 3\n",
            "7 raised to the power of 3 is 343\n"
          ]
        }
      ]
    },
    {
      "cell_type": "markdown",
      "source": [
        "4. Write a Python function that takes a positive integer and returns the sum\n",
        "of the cube of all the positive integers smaller than the specified number.\n",
        "Sample input: 4 Sample output: 36"
      ],
      "metadata": {
        "id": "kXOUnh7p1XBA"
      }
    },
    {
      "cell_type": "code",
      "source": [
        "def value(n):\n",
        "  tot_sum=0\n",
        "  for i in range(1,n):\n",
        "    tot_sum += i**3\n",
        "  return tot_sum\n",
        "n=int(input(\"enter the number\"))\n",
        "result=value(n)\n",
        "print(f\"the sum of cubes of all positive integers smaller than {n} is {result}\")"
      ],
      "metadata": {
        "colab": {
          "base_uri": "https://localhost:8080/"
        },
        "id": "jdy2MuIO0Rya",
        "outputId": "1c878fac-9819-4f8f-d5f7-9843f6c7eff7"
      },
      "execution_count": 27,
      "outputs": [
        {
          "output_type": "stream",
          "name": "stdout",
          "text": [
            "enter the number6\n",
            "the sum of cubes of all positive integers smaller than 6 is 225\n"
          ]
        }
      ]
    },
    {
      "cell_type": "markdown",
      "source": [
        "5. Write a Python program which iterates from 1 to 10. For multiples of 2,\n",
        "print “Fizz” instead of the number and for the multiples of 5, print “Buzz”.\n",
        "For numbers which are multiples of both 2 and 5, print “FizzBuzz”.\n",
        "Sample input: numbers from 1 to 10 Sample output: 1 Fizz 3 Fizz Buzz\n",
        "Fizz 7 Fizz 9 FizzBuzz"
      ],
      "metadata": {
        "id": "wSByhQCb4fuM"
      }
    },
    {
      "cell_type": "code",
      "source": [
        "n=int(input(\"enter the limit:\"))\n",
        "for i in range(1,n+1):\n",
        "  if i%2==0 and i%5==0:\n",
        "    print(\"buzzfizz\")\n",
        "  elif i%2==0:\n",
        "    print(\"fizz\")\n",
        "  elif i%5==0:\n",
        "    print(\"buzz\")\n",
        "  else:\n",
        "    print(i)"
      ],
      "metadata": {
        "colab": {
          "base_uri": "https://localhost:8080/"
        },
        "id": "mrQgrH7K3yvk",
        "outputId": "f3f71114-8616-435e-f82f-434d714968e0"
      },
      "execution_count": 68,
      "outputs": [
        {
          "output_type": "stream",
          "name": "stdout",
          "text": [
            "enter the limit:10\n",
            "1\n",
            "fizz\n",
            "3\n",
            "fizz\n",
            "buzz\n",
            "fizz\n",
            "7\n",
            "fizz\n",
            "9\n",
            "buzzfizz\n"
          ]
        }
      ]
    },
    {
      "cell_type": "markdown",
      "source": [
        "6. Write a Python program to find the most frequent item in a list of\n",
        "numbers. Sample input: 2, 3, 4, 2, 5, 2 Sample output: 2"
      ],
      "metadata": {
        "id": "EtZC14-1TUpO"
      }
    },
    {
      "cell_type": "code",
      "source": [
        "list=[]\n",
        "n=int(input(\"enter the limit\"))\n",
        "for i in range(n):\n",
        "  a=int(input(\"enter the number\"))\n",
        "  list.append(a)\n",
        "print(list)\n",
        "\"\"\"\n",
        "max_count=0\n",
        "most_freq=0\n",
        "count=list.count(a)\n",
        "if count>max_count:\n",
        "  max_count=count\n",
        "  most_freq=a\n",
        "print(f\"The most frequent number is: {most_freq}\")\n",
        "\"\"\"\n",
        "most_freq=max(set(list),key=list.count)\n",
        "print(\"the most frequent number is:\",most_freq)"
      ],
      "metadata": {
        "colab": {
          "base_uri": "https://localhost:8080/"
        },
        "id": "aOC_N7XgAfTa",
        "outputId": "f8fc5957-4702-4150-de56-338750be0417"
      },
      "execution_count": 76,
      "outputs": [
        {
          "output_type": "stream",
          "name": "stdout",
          "text": [
            "enter the limit6\n",
            "enter the number4\n",
            "enter the number5\n",
            "enter the number5\n",
            "enter the number5\n",
            "enter the number3\n",
            "enter the number6\n",
            "[4, 5, 5, 5, 3, 6]\n",
            "the most frequent number is: 5\n"
          ]
        }
      ]
    },
    {
      "cell_type": "markdown",
      "source": [
        "7. Write a Python program to find the sum of squares of the numbers in a\n",
        "list. Sample input: 2,1,3,1 Sample output: 15"
      ],
      "metadata": {
        "id": "IeoH5AY7ZLNs"
      }
    },
    {
      "cell_type": "code",
      "source": [
        "list=[]\n",
        "n=int(input(\"enter the limit\"))\n",
        "for i in range(n):\n",
        "  a=int(input(\"enter the number\"))\n",
        "  list.append(a)\n",
        "print(list)\n",
        "sum_sq=0\n",
        "for i in list:\n",
        "  sum_sq += i**2\n",
        "print(\"the result is:\",sum_sq)"
      ],
      "metadata": {
        "colab": {
          "base_uri": "https://localhost:8080/"
        },
        "id": "pByTrWehT-j2",
        "outputId": "aa20a728-ae60-45ca-c07d-e06695cc5392"
      },
      "execution_count": 77,
      "outputs": [
        {
          "output_type": "stream",
          "name": "stdout",
          "text": [
            "enter the limit5\n",
            "enter the number3\n",
            "enter the number4\n",
            "enter the number2\n",
            "enter the number1\n",
            "enter the number1\n",
            "[3, 4, 2, 1, 1]\n",
            "the result is: 31\n"
          ]
        }
      ]
    },
    {
      "cell_type": "markdown",
      "source": [
        "8. Write a Python program using for loop that will iterate from 1 to 15. For\n",
        "each iteration, check if the current number is odd or even, and display the\n",
        "message to the screen as odd or even. Sample input: 1….15 Sample\n",
        "output: 1-odd 2-even …. 15-odd"
      ],
      "metadata": {
        "id": "nBUQUom-cVFa"
      }
    },
    {
      "cell_type": "code",
      "source": [
        "n=int(input(\"enter the limit:\"))\n",
        "for i in range(1,n+1):\n",
        "  if i%2==0:\n",
        "    print(f\"{i}-even\")\n",
        "  else:\n",
        "    print(f\"{i}-odd\")"
      ],
      "metadata": {
        "colab": {
          "base_uri": "https://localhost:8080/"
        },
        "id": "xw-2t0gEZ0oo",
        "outputId": "accfb6c5-1a79-4f79-a7b9-66d656faaf38"
      },
      "execution_count": 69,
      "outputs": [
        {
          "output_type": "stream",
          "name": "stdout",
          "text": [
            "enter the limit:15\n",
            "1-odd\n",
            "2-even\n",
            "3-odd\n",
            "4-even\n",
            "5-odd\n",
            "6-even\n",
            "7-odd\n",
            "8-even\n",
            "9-odd\n",
            "10-even\n",
            "11-odd\n",
            "12-even\n",
            "13-odd\n",
            "14-even\n",
            "15-odd\n"
          ]
        }
      ]
    },
    {
      "cell_type": "markdown",
      "source": [
        "9. Write a Python program to convert temperatures to and from Celsius\n",
        "Fahrenheit. [Formula: c/5=f-32/9 where c=temperature in Celsius and f=\n",
        "temperature in Fahrenheit.] Sample input: Temperature in Fahrenheit\n",
        "=41 Sample output: Temperature in Celsius =5"
      ],
      "metadata": {
        "id": "0PvbDjKibprY"
      }
    },
    {
      "cell_type": "code",
      "source": [
        "for i in range(2):\n",
        "  print(\"Converter\\n \\n1.Celsius to Fahrenheit.\\n2.Fahrenheit to Celsius.\")\n",
        "  option=int(input(\"\\n Select 1 or 2:\"))\n",
        "  if option==1:\n",
        "    t=int(input(\"Enter temperature in Celsius:\"))\n",
        "    result=t*(9.0/5.0)+32\n",
        "    print(f\"Temperature in Fahrenheit={result}F\")\n",
        "  elif option==2:\n",
        "    t=int(input(\"Enter temperature in Fahrenheit:\"))\n",
        "    result=(t-32)*(5.0/9.0)\n",
        "    print(f\"Temperature in Celsius={result}C\")\n",
        "  else:\n",
        "    print(\"invalid option\")\n"
      ],
      "metadata": {
        "colab": {
          "base_uri": "https://localhost:8080/"
        },
        "id": "9F7oQQJaddQ5",
        "outputId": "b68fa126-0d39-4859-a273-1b3d46aabe42"
      },
      "execution_count": 84,
      "outputs": [
        {
          "output_type": "stream",
          "name": "stdout",
          "text": [
            "Converter\n",
            " \n",
            "1.Celsius to Fahrenheit.\n",
            "2.Fahrenheit to Celsius.\n",
            "\n",
            " Select 1 or 2:1\n",
            "Enter temperature in Celsius:5\n",
            "Temperature in Fahrenheit=41.0F\n",
            "Converter\n",
            " \n",
            "1.Celsius to Fahrenheit.\n",
            "2.Fahrenheit to Celsius.\n",
            "\n",
            " Select 1 or 2:2\n",
            "Enter temperature in Fahrenheit:40\n",
            "Temperature in Celsius=4.444444444444445C\n"
          ]
        }
      ]
    },
    {
      "cell_type": "markdown",
      "source": [
        "10. Write a Python function to calculate the factorial of a number (a\n",
        "nonnegative integer). The function accepts the number as an argument.\n",
        "Sample input: 3 Sample output: 6"
      ],
      "metadata": {
        "id": "mOPVTujBmeRW"
      }
    },
    {
      "cell_type": "code",
      "source": [
        "def factorial(n):\n",
        "    if n<0:\n",
        "        return \"Factorial is not defined for negative numbers.\"\n",
        "    elif n==0 or n==1:\n",
        "        return 1\n",
        "    else:\n",
        "        result=1\n",
        "        for i in range(2,n+1):\n",
        "            result*=i\n",
        "        return result\n",
        "x=int(input(\"Enter the value:\"))\n",
        "print(f\"Factorial of {x} is {factorial(x)}\")"
      ],
      "metadata": {
        "colab": {
          "base_uri": "https://localhost:8080/"
        },
        "id": "n3mMIaEoniuu",
        "outputId": "45536612-dc36-463a-b2b7-8ad7f3a5f2f9"
      },
      "execution_count": 85,
      "outputs": [
        {
          "output_type": "stream",
          "name": "stdout",
          "text": [
            "Enter the value:5\n",
            "Factorial of 5 is 120\n"
          ]
        }
      ]
    },
    {
      "cell_type": "code",
      "source": [],
      "metadata": {
        "id": "eLW1q9Z1ntVC"
      },
      "execution_count": null,
      "outputs": []
    }
  ]
}